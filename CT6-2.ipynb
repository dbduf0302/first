{
  "nbformat": 4,
  "nbformat_minor": 0,
  "metadata": {
    "colab": {
      "provenance": [],
      "authorship_tag": "ABX9TyNguXrL39bc04Bp2vWjmu+w",
      "include_colab_link": true
    },
    "kernelspec": {
      "name": "python3",
      "display_name": "Python 3"
    },
    "language_info": {
      "name": "python"
    }
  },
  "cells": [
    {
      "cell_type": "markdown",
      "metadata": {
        "id": "view-in-github",
        "colab_type": "text"
      },
      "source": [
        "<a href=\"https://colab.research.google.com/github/dbduf0302/first/blob/main/CT6-2.ipynb\" target=\"_parent\"><img src=\"https://colab.research.google.com/assets/colab-badge.svg\" alt=\"Open In Colab\"/></a>"
      ]
    },
    {
      "cell_type": "code",
      "execution_count": 12,
      "metadata": {
        "colab": {
          "base_uri": "https://localhost:8080/"
        },
        "id": "LSmaBsBgYqS1",
        "outputId": "e8a3f19b-444a-4c6e-c01a-b50aa8d92952"
      },
      "outputs": [
        {
          "output_type": "stream",
          "name": "stdout",
          "text": [
            "성적을 입력하시오;100\n",
            "성적을 입력하시오;54\n",
            "성적을 입력하시오;26\n",
            "성적을 입력하시오;152\n",
            "성적을 입력하시오;51\n",
            "성적을 입력하시오;23\n",
            "성적을 입력하시오;62\n",
            "성적을 입력하시오;65\n",
            "성적을 입력하시오;95\n",
            "성적을 입력하시오;98\n",
            "72.6\n"
          ]
        }
      ],
      "source": [
        "total = 0                                          #현재까지의 학생의 점수 총합         \n",
        "counter = 1                                        #학생을 카운트 하는 수\n",
        "while counter <= 10:                               #카운트를 하는 학생의 수는 10보다 작다\n",
        "        grade = int(input(\"성적을 입력하시오;\"))   #학생의 성적을 입력\n",
        "        total = int(grade) + total                 #현재까지 학생의 점수 총합 계산\n",
        "        counter = counter + 1                      #카운트하는 학생의 순번\n",
        "average = total / 10                               #학생들의 점수를 평균으로 계산\n",
        "print(average)                                     #학생들의 점수 평균을 출력\n",
        "\n"
      ]
    }
  ]
}